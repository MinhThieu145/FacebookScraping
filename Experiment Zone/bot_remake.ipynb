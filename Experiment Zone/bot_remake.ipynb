{
 "cells": [
  {
   "cell_type": "code",
   "execution_count": 2,
   "metadata": {},
   "outputs": [],
   "source": [
    "# scraping libraries\n",
    "import pandas as pd\n",
    "import csv\n",
    "import time\n",
    "\n",
    "from selenium import webdriver\n",
    "from selenium.webdriver.chrome.options import Options\n",
    "\n",
    "from selenium.webdriver.support.ui import WebDriverWait\n",
    "from selenium.webdriver.common.by import By\n",
    "from selenium.webdriver.support import expected_conditions as EC\n",
    "\n"
   ]
  },
  {
   "cell_type": "code",
   "execution_count": null,
   "metadata": {},
   "outputs": [],
   "source": [
    "# write a header to csv file with current_time,img_link, post_link, title, price, location, posted_time\n",
    "with open('data.csv', 'w', newline='') as file:\n",
    "    writer = csv.writer(file)\n",
    "    writer.writerow([\"current_time\", \"img_link\", \"post_link\", \"title\", \"price\", \"location\", \"posted_time\"])\n"
   ]
  },
  {
   "cell_type": "code",
   "execution_count": 74,
   "metadata": {},
   "outputs": [
    {
     "name": "stderr",
     "output_type": "stream",
     "text": [
      "c:\\Users\\minht\\.conda\\envs\\WebScraping\\lib\\site-packages\\ipykernel_launcher.py:3: DeprecationWarning: executable_path has been deprecated, please pass in a Service object\n",
      "  This is separate from the ipykernel package so we can avoid doing imports until\n",
      "c:\\Users\\minht\\.conda\\envs\\WebScraping\\lib\\site-packages\\ipykernel_launcher.py:3: DeprecationWarning: use options instead of chrome_options\n",
      "  This is separate from the ipykernel package so we can avoid doing imports until\n"
     ]
    }
   ],
   "source": [
    "chrome_options = Options()\n",
    "chrome_options.add_experimental_option(\"debuggerAddress\",\"localhost:8000\")\n",
    "driver = webdriver.Chrome(executable_path=\"chromedriver.exe\", chrome_options=chrome_options)"
   ]
  },
  {
   "attachments": {},
   "cell_type": "markdown",
   "metadata": {},
   "source": [
    "# Scraping"
   ]
  },
  {
   "cell_type": "code",
   "execution_count": 75,
   "metadata": {},
   "outputs": [
    {
     "name": "stdout",
     "output_type": "stream",
     "text": [
      "23\n"
     ]
    }
   ],
   "source": [
    "items = WebDriverWait(driver, 5).until(EC.presence_of_all_elements_located((By.XPATH, '//div[@class=\"x9f619 x78zum5 x1r8uery xdt5ytf x1iyjqo2 xs83m0k x1e558r4 x150jy0e xnpuxes x291uyu x1uepa24 x1iorvi4 xjkvuk6\"]//a')))\n",
    "print(len(items))"
   ]
  },
  {
   "cell_type": "code",
   "execution_count": 76,
   "metadata": {},
   "outputs": [],
   "source": [
    "# Go to each item\n",
    "def GoToItem(post_link):\n",
    "    # open a link in new tab\n",
    "    driver.switch_to.new_window('tab')\n",
    "    driver.get(post_link)\n",
    "    # time\n",
    "    time = WebDriverWait(driver, 5).until(EC.presence_of_element_located((By.XPATH, '//span[@class=\"x193iq5w xeuugli x13faqbe x1vvkbs x1xmvt09 x1lliihq x1s928wv xhkezso x1gmr53x x1cpjm7i x1fgarty x1943h6x x4zkp8e x676frb x1nxh6w3 x1sibtaa xo1l8bm xi81zsa\"]'))).text\n",
    "    print(time)\n",
    "\n",
    "    # go back to previous tab\n",
    "    driver.close()\n",
    "    driver.switch_to.window(driver.window_handles[0])\n",
    "    \n",
    "    return time\n"
   ]
  },
  {
   "cell_type": "code",
   "execution_count": 77,
   "metadata": {},
   "outputs": [
    {
     "name": "stdout",
     "output_type": "stream",
     "text": [
      "https://www.facebook.com/marketplace/item/1176510743064247/?ref=search&referral_code=null&referral_story_type=post&__tn__=!%3AD\n",
      "$1,149\n",
      "Turkish sofa loveseat fabric adjustable 2pc❤️✨ we have delivery 🚛👍🏼 only $49 down\n",
      "Houston, TX\n",
      "Listed 47 minutes ago in Houston, TX\n",
      "https://www.facebook.com/marketplace/item/729678525458851/?ref=search&referral_code=null&referral_story_type=post&__tn__=!%3AD\n",
      "$1,349\n",
      "Millingar Smoke Living Room Set 💣BIG SALE💣Sofa,Loveseat ❤️1349\n",
      "Houston, TX\n",
      "Listed in Houston, TX\n",
      "https://www.facebook.com/marketplace/item/1297870731071087/?ref=search&referral_code=null&referral_story_type=post&__tn__=!%3AD\n",
      "$750\n",
      "seccional gris $750 pregúnta por Héctor\n",
      "Houston, TX\n",
      "Listed 49 minutes ago in Houston, TX\n",
      "https://www.facebook.com/marketplace/item/171182919058915/?ref=search&referral_code=null&referral_story_type=post&__tn__=!%3AD\n",
      "$2,449\n",
      "Lupino Sofá Loveseat In stock again ❤️90 days same as cash, same day free delivery\n",
      "Houston, TX\n",
      "Listed 50 minutes ago in Houston, TX\n",
      "https://www.facebook.com/marketplace/item/761849768514997/?ref=search&referral_code=null&referral_story_type=post&__tn__=!%3AD\n",
      "$1,249\n",
      "Gleston Onyx Living Room Set Sofa and Loveseat ❤️ no credit check only $39 down\n",
      "Houston, TX\n",
      "Listed 51 minutes ago in Houston, TX\n",
      "https://www.facebook.com/marketplace/item/608587090692040/?ref=search&referral_code=null&referral_story_type=post&__tn__=!%3AD\n",
      "$1,949\n",
      "Lexington Grey Recliner Set ❗️$39 Down🌐 No checamos Crédito 💥Mismo día deliver\n",
      "Houston, TX\n",
      "Listed 54 minutes ago in Houston, TX\n",
      "https://www.facebook.com/marketplace/item/218619990737698/?ref=search&referral_code=null&referral_story_type=post&__tn__=!%3AD\n",
      "$699\n",
      "110 - Moderno Grey Sectional **SPECIAL ❤️ same day delivery\n",
      "Houston, TX\n",
      "Listed 56 minutes ago in Houston, TX\n",
      "https://www.facebook.com/marketplace/item/1123894972345162/?ref=search&referral_code=null&referral_story_type=post&__tn__=!%3AD\n",
      "$2,599\n",
      "Hoopster brown Power Sofa and Loveseat SPECIAL PRICE✌️ no down payment needed! 🌼financing\n",
      "Houston, TX\n",
      "Listed 58 minutes ago in Houston, TX\n",
      "https://www.facebook.com/marketplace/item/1664768850603189/?ref=search&referral_code=null&referral_story_type=post&__tn__=!%3AD\n",
      "$1,399\n",
      "Mimosa sofa and loveseat 90 days same as cash, finance available no credit check , only 39$ down.\n",
      "Houston, TX\n",
      "Listed about an hour ago in Houston, TX\n",
      "https://www.facebook.com/marketplace/item/574446991381024/?ref=search&referral_code=null&referral_story_type=post&__tn__=!%3AD\n",
      "$400\n",
      "Beautiful Brown Sofa\n",
      "Houston, TX\n",
      "Listed about an hour ago in Houston, TX\n",
      "https://www.facebook.com/marketplace/item/559864159267438/?ref=search&referral_code=null&referral_story_type=post&__tn__=!%3AD\n",
      "$250\n",
      "Sectional Sofa\n",
      "Houston, TX\n",
      "Listed about an hour ago in Houston, TX\n",
      "https://www.facebook.com/marketplace/item/599273298371134/?ref=search&referral_code=null&referral_story_type=post&__tn__=!%3AD\n",
      "$49\n",
      "Party Time 2 PCS SOFA AND LOVESEAT White LED Power Reclining Living Room Set $3599 Down Payment $49\n",
      "Houston, TX\n",
      "Listed about an hour ago in Houston, TX\n",
      "https://www.facebook.com/marketplace/item/246843441011621/?ref=search&referral_code=null&referral_story_type=post&__tn__=!%3AD\n",
      "$900\n",
      "Outdoor patio sofa\n",
      "Houston, TX\n",
      "Listed in Houston, TX\n",
      "https://www.facebook.com/marketplace/item/748820653277578/?ref=search&referral_code=null&referral_story_type=post&__tn__=!%3AD\n",
      "$99\n",
      "💫🌟🔥30% Discount sale Brand new sofa available free delivery within 3 to 4 Hours 🚚🚛\n",
      "Houston, TX\n",
      "Listed about an hour ago in Houston, TX\n",
      "https://www.facebook.com/marketplace/item/1417964935686965/?ref=search&referral_code=null&referral_story_type=post&__tn__=!%3AD\n",
      "$54\n",
      "Alexa Grey RECLINER SET 🥳 HOUSTON ONLY $54 Down🤑 Financing Available ✅ Fast Delivery $2999\n",
      "Houston, TX\n",
      "Listed in Houston, TX\n",
      "https://www.facebook.com/marketplace/item/1153518635335130/?ref=search&referral_code=null&referral_story_type=post&__tn__=!%3AD\n",
      "$500\n",
      "FREE DELIVERY 🚚 Sectional (10x6) w/ Storage Ottoman.\n",
      "Houston, TX\n",
      "Listed about an hour ago in Houston, TX\n",
      "https://www.facebook.com/marketplace/item/1916131452060234/?ref=search&referral_code=null&referral_story_type=post&__tn__=!%3AD\n",
      "$1,899\n",
      "Ashley 415-01 sectional❤️✨ we have delivery 🚛👍🏼 only $49 down 👏🏼 (Price:$1899)\n",
      "Houston, TX\n",
      "Listed in Houston, TX\n",
      "https://www.facebook.com/marketplace/item/1892075651151422/?ref=search&referral_code=null&referral_story_type=post&__tn__=!%3AD\n",
      "$2,149\n",
      "Lucky Charm sectional brown No credit check optionSame day Delivery option\n",
      "Houston, TX\n",
      "Listed in Houston, TX\n",
      "https://www.facebook.com/marketplace/item/677140114175285/?ref=search&referral_code=null&referral_story_type=post&__tn__=!%3AD\n",
      "$1,649\n",
      "Bronte Grey Sofa Loveseat Same day Delivery optionNo credit check option\n",
      "Houston, TX\n",
      "Listed in Houston, TX\n",
      "https://www.facebook.com/marketplace/item/759950158729626/?ref=search&referral_code=null&referral_story_type=post&__tn__=!%3AD\n",
      "$1,700\n",
      "Claredon sofa loveseat chair ottoman on sale 4pcs $1700\n",
      "Houston, TX\n",
      "Listed about an hour ago in Houston, TX\n",
      "https://www.facebook.com/marketplace/item/1387288492017709/?ref=search&referral_code=null&referral_story_type=post&__tn__=!%3AD\n",
      "$1\n",
      "2pc Cream Couch! With Pillows Included! Message Me For More Details!\n",
      "Houston, TX\n",
      "Listed about an hour ago in Houston, TX\n",
      "https://www.facebook.com/marketplace/item/2093517297677539/?ref=search&referral_code=null&referral_story_type=post&__tn__=!%3AD\n",
      "$2,699\n",
      "Black leather sofa loveseat power recliner led light cup holders storage armrest zero down finance\n",
      "Pasadena, TX\n",
      "Listed about an hour ago in Pasadena, TX\n",
      "https://www.facebook.com/marketplace/item/1540867813103683/?ref=search&referral_code=null&referral_story_type=post&__tn__=!%3AD\n",
      "$450\n",
      "Couch and leather recliner\n",
      "Houston, TX\n",
      "Listed in Houston, TX\n"
     ]
    }
   ],
   "source": [
    "for item in items:\n",
    "    # find the link to the post, wait until item is visible\n",
    "    post_link = WebDriverWait(driver, 5).until(EC.visibility_of(item)).get_attribute(\"href\")\n",
    "    print(post_link) # Get the link to the post\n",
    "\n",
    "    # find the price with WebDriverWait\n",
    "    price = WebDriverWait(item, 5).until(EC.presence_of_element_located((By.XPATH, './/span[@class=\"x193iq5w xeuugli x13faqbe x1vvkbs x1xmvt09 x1lliihq x1s928wv xhkezso x1gmr53x x1cpjm7i x1fgarty x1943h6x xudqn12 x676frb x1lkfr7t x1lbecb7 x1s688f xzsf02u\"]'))).text\n",
    "    print(price)\n",
    "\n",
    "    # find the title with WebDriverWait\n",
    "    title = WebDriverWait(item, 5).until(EC.presence_of_element_located((By.XPATH, './/span[@class=\"x1lliihq x6ikm8r x10wlt62 x1n2onr6\"]'))).text\n",
    "    print(title)\n",
    "\n",
    "    # find the location with WebDriverWait\n",
    "    location = WebDriverWait(item, 5).until(EC.presence_of_element_located((By.XPATH, './/span[@class=\"x1lliihq x6ikm8r x10wlt62 x1n2onr6 xlyipyv xuxw1ft x1j85h84\"]'))).text\n",
    "    print(location)\n",
    "\n",
    "    # Go to item \n",
    "    time = GoToItem(post_link) # Go to item\n",
    "    "
   ]
  },
  {
   "cell_type": "code",
   "execution_count": null,
   "metadata": {},
   "outputs": [],
   "source": []
  }
 ],
 "metadata": {
  "kernelspec": {
   "display_name": "WebScraping",
   "language": "python",
   "name": "python3"
  },
  "language_info": {
   "codemirror_mode": {
    "name": "ipython",
    "version": 3
   },
   "file_extension": ".py",
   "mimetype": "text/x-python",
   "name": "python",
   "nbconvert_exporter": "python",
   "pygments_lexer": "ipython3",
   "version": "3.7.13"
  },
  "orig_nbformat": 4
 },
 "nbformat": 4,
 "nbformat_minor": 2
}
