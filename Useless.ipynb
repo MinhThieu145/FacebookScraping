{
 "cells": [
  {
   "cell_type": "code",
   "execution_count": 2,
   "metadata": {},
   "outputs": [],
   "source": [
    "import pandas as pd\n",
    "import numpy as np\n"
   ]
  },
  {
   "cell_type": "code",
   "execution_count": 4,
   "metadata": {},
   "outputs": [],
   "source": [
    "# Create a dataframe with Date, UserName, and Password\n",
    "df = pd.DataFrame(columns=['DateCreated', 'UserName', 'UserID' ,'Password'])\n",
    "\n",
    "# export this dataframe to a csv file\n",
    "df.to_csv('user_data.csv', index=False)"
   ]
  },
  {
   "cell_type": "code",
   "execution_count": 5,
   "metadata": {},
   "outputs": [],
   "source": [
    "# upload the data to the S3 bucket\n",
    "import boto3\n",
    "\n",
    "s3_client = boto3.client('s3')\n",
    "s3_client.upload_file(\n",
    "    'user_data.csv',\n",
    "    'facebook-crawler-data',\n",
    "    'user_data.csv'\n",
    ")"
   ]
  },
  {
   "cell_type": "code",
   "execution_count": 6,
   "metadata": {},
   "outputs": [],
   "source": [
    "# Create a dataframe with User, URL and Schedule\n",
    "df = pd.DataFrame(columns=['UserID', 'URL', 'Schedule'])\n",
    "\n",
    "# export this dataframe to a csv file\n",
    "df.to_csv('url_data.csv', index=False)\n",
    "\n",
    "# upload the data to the S3 bucket\n",
    "import boto3\n",
    "\n",
    "s3_client = boto3.client('s3')\n",
    "\n",
    "s3_client.upload_file(\n",
    "    'url_data.csv',\n",
    "    'facebook-crawler-data',\n",
    "    'url_data.csv'\n",
    ")\n",
    "\n",
    "\n"
   ]
  },
  {
   "cell_type": "code",
   "execution_count": null,
   "metadata": {},
   "outputs": [],
   "source": []
  }
 ],
 "metadata": {
  "kernelspec": {
   "display_name": "DataAnalyst",
   "language": "python",
   "name": "python3"
  },
  "language_info": {
   "codemirror_mode": {
    "name": "ipython",
    "version": 3
   },
   "file_extension": ".py",
   "mimetype": "text/x-python",
   "name": "python",
   "nbconvert_exporter": "python",
   "pygments_lexer": "ipython3",
   "version": "3.10.11"
  },
  "orig_nbformat": 4
 },
 "nbformat": 4,
 "nbformat_minor": 2
}
